{
 "cells": [
  {
   "cell_type": "markdown",
   "metadata": {},
   "source": [
    "# Titanic Dataset Analysis"
   ]
  },
  {
   "cell_type": "markdown",
   "metadata": {},
   "source": [
    "By: Jubin Soni (jubins@nyu.edu)\n",
    "\n",
    "Udacity Data Analyst Nanodegree Project"
   ]
  },
  {
   "cell_type": "markdown",
   "metadata": {},
   "source": [
    "### Data and Setup"
   ]
  },
  {
   "cell_type": "markdown",
   "metadata": {},
   "source": [
    "#### Loading Data Analysis and Data Visualization Libraries"
   ]
  },
  {
   "cell_type": "code",
   "execution_count": 1,
   "metadata": {
    "collapsed": true
   },
   "outputs": [],
   "source": [
    "import pandas as pd\n",
    "import numpy as np\n",
    "import matplotlib.pyplot as plt\n",
    "import matplotlib as mpl\n",
    "import seaborn as sns\n",
    "from IPython.display import display, Image\n",
    "%matplotlib inline\n",
    "mpl.rcParams['patch.force_edgecolor'] = True"
   ]
  },
  {
   "cell_type": "markdown",
   "metadata": {},
   "source": [
    "#### Read in the csv file as a dataframe"
   ]
  },
  {
   "cell_type": "code",
   "execution_count": 15,
   "metadata": {
    "collapsed": false
   },
   "outputs": [],
   "source": [
    "titanic_df = pd.read_csv('https://d17h27t6h515a5.cloudfront.net/topher/2016/September/57e9a84c_titanic-data/titanic-data.csv')\n",
    "titanic_df.to_csv('titanic_dataset.csv')"
   ]
  },
  {
   "cell_type": "markdown",
   "metadata": {},
   "source": [
    "#### Checking Info() and head() of the dataframe"
   ]
  },
  {
   "cell_type": "code",
   "execution_count": 3,
   "metadata": {
    "collapsed": false
   },
   "outputs": [
    {
     "name": "stdout",
     "output_type": "stream",
     "text": [
      "<class 'pandas.core.frame.DataFrame'>\n",
      "RangeIndex: 891 entries, 0 to 890\n",
      "Data columns (total 12 columns):\n",
      "PassengerId    891 non-null int64\n",
      "Survived       891 non-null int64\n",
      "Pclass         891 non-null int64\n",
      "Name           891 non-null object\n",
      "Sex            891 non-null object\n",
      "Age            714 non-null float64\n",
      "SibSp          891 non-null int64\n",
      "Parch          891 non-null int64\n",
      "Ticket         891 non-null object\n",
      "Fare           891 non-null float64\n",
      "Cabin          204 non-null object\n",
      "Embarked       889 non-null object\n",
      "dtypes: float64(2), int64(5), object(5)\n",
      "memory usage: 83.6+ KB\n"
     ]
    }
   ],
   "source": [
    "titanic_df.info()"
   ]
  },
  {
   "cell_type": "code",
   "execution_count": 4,
   "metadata": {
    "collapsed": false
   },
   "outputs": [
    {
     "data": {
      "text/html": [
       "<div>\n",
       "<table border=\"1\" class=\"dataframe\">\n",
       "  <thead>\n",
       "    <tr style=\"text-align: right;\">\n",
       "      <th></th>\n",
       "      <th>PassengerId</th>\n",
       "      <th>Survived</th>\n",
       "      <th>Pclass</th>\n",
       "      <th>Name</th>\n",
       "      <th>Sex</th>\n",
       "      <th>Age</th>\n",
       "      <th>SibSp</th>\n",
       "      <th>Parch</th>\n",
       "      <th>Ticket</th>\n",
       "      <th>Fare</th>\n",
       "      <th>Cabin</th>\n",
       "      <th>Embarked</th>\n",
       "    </tr>\n",
       "  </thead>\n",
       "  <tbody>\n",
       "    <tr>\n",
       "      <th>0</th>\n",
       "      <td>1</td>\n",
       "      <td>0</td>\n",
       "      <td>3</td>\n",
       "      <td>Braund, Mr. Owen Harris</td>\n",
       "      <td>male</td>\n",
       "      <td>22.0</td>\n",
       "      <td>1</td>\n",
       "      <td>0</td>\n",
       "      <td>A/5 21171</td>\n",
       "      <td>7.2500</td>\n",
       "      <td>NaN</td>\n",
       "      <td>S</td>\n",
       "    </tr>\n",
       "    <tr>\n",
       "      <th>1</th>\n",
       "      <td>2</td>\n",
       "      <td>1</td>\n",
       "      <td>1</td>\n",
       "      <td>Cumings, Mrs. John Bradley (Florence Briggs Th...</td>\n",
       "      <td>female</td>\n",
       "      <td>38.0</td>\n",
       "      <td>1</td>\n",
       "      <td>0</td>\n",
       "      <td>PC 17599</td>\n",
       "      <td>71.2833</td>\n",
       "      <td>C85</td>\n",
       "      <td>C</td>\n",
       "    </tr>\n",
       "    <tr>\n",
       "      <th>2</th>\n",
       "      <td>3</td>\n",
       "      <td>1</td>\n",
       "      <td>3</td>\n",
       "      <td>Heikkinen, Miss. Laina</td>\n",
       "      <td>female</td>\n",
       "      <td>26.0</td>\n",
       "      <td>0</td>\n",
       "      <td>0</td>\n",
       "      <td>STON/O2. 3101282</td>\n",
       "      <td>7.9250</td>\n",
       "      <td>NaN</td>\n",
       "      <td>S</td>\n",
       "    </tr>\n",
       "    <tr>\n",
       "      <th>3</th>\n",
       "      <td>4</td>\n",
       "      <td>1</td>\n",
       "      <td>1</td>\n",
       "      <td>Futrelle, Mrs. Jacques Heath (Lily May Peel)</td>\n",
       "      <td>female</td>\n",
       "      <td>35.0</td>\n",
       "      <td>1</td>\n",
       "      <td>0</td>\n",
       "      <td>113803</td>\n",
       "      <td>53.1000</td>\n",
       "      <td>C123</td>\n",
       "      <td>S</td>\n",
       "    </tr>\n",
       "    <tr>\n",
       "      <th>4</th>\n",
       "      <td>5</td>\n",
       "      <td>0</td>\n",
       "      <td>3</td>\n",
       "      <td>Allen, Mr. William Henry</td>\n",
       "      <td>male</td>\n",
       "      <td>35.0</td>\n",
       "      <td>0</td>\n",
       "      <td>0</td>\n",
       "      <td>373450</td>\n",
       "      <td>8.0500</td>\n",
       "      <td>NaN</td>\n",
       "      <td>S</td>\n",
       "    </tr>\n",
       "  </tbody>\n",
       "</table>\n",
       "</div>"
      ],
      "text/plain": [
       "   PassengerId  Survived  Pclass  \\\n",
       "0            1         0       3   \n",
       "1            2         1       1   \n",
       "2            3         1       3   \n",
       "3            4         1       1   \n",
       "4            5         0       3   \n",
       "\n",
       "                                                Name     Sex   Age  SibSp  \\\n",
       "0                            Braund, Mr. Owen Harris    male  22.0      1   \n",
       "1  Cumings, Mrs. John Bradley (Florence Briggs Th...  female  38.0      1   \n",
       "2                             Heikkinen, Miss. Laina  female  26.0      0   \n",
       "3       Futrelle, Mrs. Jacques Heath (Lily May Peel)  female  35.0      1   \n",
       "4                           Allen, Mr. William Henry    male  35.0      0   \n",
       "\n",
       "   Parch            Ticket     Fare Cabin Embarked  \n",
       "0      0         A/5 21171   7.2500   NaN        S  \n",
       "1      0          PC 17599  71.2833   C85        C  \n",
       "2      0  STON/O2. 3101282   7.9250   NaN        S  \n",
       "3      0            113803  53.1000  C123        S  \n",
       "4      0            373450   8.0500   NaN        S  "
      ]
     },
     "execution_count": 4,
     "metadata": {},
     "output_type": "execute_result"
    }
   ],
   "source": [
    "titanic_df.head()"
   ]
  },
  {
   "cell_type": "markdown",
   "metadata": {},
   "source": [
    "### Basic Questions"
   ]
  },
  {
   "cell_type": "markdown",
   "metadata": {},
   "source": [
    "#### How many people Survived"
   ]
  },
  {
   "cell_type": "code",
   "execution_count": 5,
   "metadata": {
    "collapsed": false
   },
   "outputs": [
    {
     "name": "stdout",
     "output_type": "stream",
     "text": [
      "Mean Survival Rate: 0.3838383838383838\n"
     ]
    }
   ],
   "source": [
    "print(\"Mean Survival Rate: {}\".format(titanic_df['Survived'].mean()))"
   ]
  },
  {
   "cell_type": "markdown",
   "metadata": {},
   "source": [
    "Conclusion: Only 38% people could survive the Titanic."
   ]
  },
  {
   "cell_type": "markdown",
   "metadata": {},
   "source": [
    "#### What are Age statistics of people in the ship"
   ]
  },
  {
   "cell_type": "code",
   "execution_count": 6,
   "metadata": {
    "collapsed": false
   },
   "outputs": [
    {
     "name": "stdout",
     "output_type": "stream",
     "text": [
      "Mean Age: 29.69911764705882\n",
      "Max Age:  80.0\n",
      "Min Age:  0.42\n"
     ]
    },
    {
     "data": {
      "text/plain": [
       "<matplotlib.axes._subplots.AxesSubplot at 0x2914d223438>"
      ]
     },
     "metadata": {},
     "output_type": "display_data"
    },
    {
     "data": {
      "image/png": "[encoded data removed]",
      "text/plain": [
       "<matplotlib.figure.Figure at 0x2914d2239e8>"
      ]
     },
     "metadata": {},
     "output_type": "display_data"
    }
   ],
   "source": [
    "print(\"Mean Age: {}\".format(titanic_df['Age'].mean()))\n",
    "print(\"Max Age:  {}\".format(titanic_df['Age'].max()))\n",
    "print(\"Min Age:  {}\".format(titanic_df['Age'].min()))\n",
    "display(titanic_df['Age'].plot.box())"
   ]
  },
  {
   "cell_type": "markdown",
   "metadata": {},
   "source": [
    "Conclusion: We see that the average population in Titanic was young. And it is strange that the minimum age is a fractional number while the maximum age seems appropriate."
   ]
  },
  {
   "cell_type": "markdown",
   "metadata": {},
   "source": [
    "#### How many people survived based on Pclass attribute (Ticket type: Upper Class  = 1, Middle Class = 2, Lower Class = 3)"
   ]
  },
  {
   "cell_type": "code",
   "execution_count": 7,
   "metadata": {
    "collapsed": false
   },
   "outputs": [
    {
     "data": {
      "text/plain": [
       "<matplotlib.text.Text at 0x2914d58b668>"
      ]
     },
     "execution_count": 7,
     "metadata": {},
     "output_type": "execute_result"
    },
    {
     "data": {
      "image/png": "[encoded data removed]",
      "text/plain": [
       "<matplotlib.figure.Figure at 0x2914d2231d0>"
      ]
     },
     "metadata": {},
     "output_type": "display_data"
    }
   ],
   "source": [
    "def survival_based_on_class(df, isSurvived, field):\n",
    "    \"\"\"\n",
    "    This function returns a dataframe based on survival criteria given in input format as below.\n",
    "    df: dataframe\n",
    "    isSurvived: 1=Yes, 0=No\n",
    "    field: Column Name\n",
    "    field_value: Column Value\n",
    "    For example: field: Pclass has 3 unique values 1,2,3 (Upper,Middle,Lower clas respectively)\n",
    "    \"\"\"\n",
    "    survival_condition = titanic_df['Survived']==isSurvived\n",
    "    return df[survival_condition][field]\n",
    "\n",
    "#Plot of people who survived\n",
    "plt.figure(figsize=(10,8))\n",
    "plt.subplot(2,2,1)\n",
    "plt.hist(survival_based_on_class(titanic_df, 1, 'Pclass'))\n",
    "plt.xlabel('Pclass')\n",
    "plt.ylabel('Number of People')\n",
    "plt.title('Survivors in each class')\n",
    "\n",
    "#Plot of people who did not survive\n",
    "plt.subplot(2,2,2)\n",
    "plt.hist(survival_based_on_class(titanic_df, 0, 'Pclass'))\n",
    "plt.xlabel('Pclass')\n",
    "plt.ylabel('Number of People')\n",
    "plt.title('Non Survivors in each class')"
   ]
  },
  {
   "cell_type": "markdown",
   "metadata": {},
   "source": [
    "Conclusion: We see that more than 350 people died in Lower class, 100 people died in Middle class where as only 80 people died in Upper class. Where as most people survived in Upper class and only 90 and 120 people survived in Middle and Lower class. This means there were lot less survived passangers who had the lower class ticket."
   ]
  },
  {
   "cell_type": "markdown",
   "metadata": {},
   "source": [
    "#### How many people survived based on Sex attribute (Sex: male, female)"
   ]
  },
  {
   "cell_type": "code",
   "execution_count": 8,
   "metadata": {
    "collapsed": false
   },
   "outputs": [
    {
     "data": {
      "text/plain": [
       "<matplotlib.text.Text at 0x2914e9ff748>"
      ]
     },
     "execution_count": 8,
     "metadata": {},
     "output_type": "execute_result"
    },
    {
     "data": {
      "image/png": "[encoded data removed]",
      "text/plain": [
       "<matplotlib.figure.Figure at 0x2914eb41da0>"
      ]
     },
     "metadata": {},
     "output_type": "display_data"
    }
   ],
   "source": [
    "def survival_based_on_sex(df, field, sex):\n",
    "    \"\"\"\n",
    "    This function returns a dataframe based on survival criteria given in input format as below.\n",
    "    df: dataframe\n",
    "    field: Column Name\n",
    "    sex: Male/Female\n",
    "    \"\"\"\n",
    "    return df[df[field]==sex]['Survived']\n",
    "\n",
    "#Plot of people who survived\n",
    "plt.figure(figsize=(10,8))\n",
    "plt.subplot(2,2,1)\n",
    "plt.hist(survival_based_on_sex(titanic_df, 'Sex', 'male'))\n",
    "plt.xlabel('Males')\n",
    "plt.ylabel('Count')\n",
    "plt.title('Male Survivors vs Non-Survivors')\n",
    "\n",
    "#Plot of people who did not survive\n",
    "plt.subplot(2,2,2)\n",
    "plt.hist(survival_based_on_sex(titanic_df, 'Sex', 'female'))\n",
    "plt.xlabel('Females')\n",
    "plt.ylabel('Count')\n",
    "plt.title('Female Survivors vs Non-Survivors')"
   ]
  },
  {
   "cell_type": "markdown",
   "metadata": {},
   "source": [
    "Conclusion: Over 400 males died and only 70 females did not survive. More than 200 females survived where as only 80 males survived. This shows that lot of females survived as compared to males and very few females died as compared to males."
   ]
  },
  {
   "cell_type": "markdown",
   "metadata": {},
   "source": [
    "#### How many people survived based on embarked (Port of Embarktion: C = Cherbourg, Q = Queenstown, S = Southampton)"
   ]
  },
  {
   "cell_type": "code",
   "execution_count": 9,
   "metadata": {
    "collapsed": false
   },
   "outputs": [
    {
     "data": {
      "text/plain": [
       "<matplotlib.text.Text at 0x2914ec040b8>"
      ]
     },
     "execution_count": 9,
     "metadata": {},
     "output_type": "execute_result"
    },
    {
     "data": {
      "image/png": "[encoded data removed]",
      "text/plain": [
       "<matplotlib.figure.Figure at 0x2914e991dd8>"
      ]
     },
     "metadata": {},
     "output_type": "display_data"
    }
   ],
   "source": [
    "def survival_based_on_embarktion(df, isSurvived):\n",
    "    \"\"\"\n",
    "    This function returns a dataframe based on survival criteria given in input format as below.\n",
    "    df: dataframe\n",
    "    isSurvived: 0 is not survived, 1 is survived\n",
    "    Already considers Embarked: Port of embarktion: C = Cherbourg, Q = Queenstown, S = Southampton\n",
    "    \"\"\"\n",
    "    return df[df['Survived']==isSurvived][['Embarked','Survived']]\n",
    "\n",
    "#Plot of people who survived\n",
    "plt.figure(figsize=(10,8))\n",
    "plt.subplot(2,2,1)\n",
    "sns.countplot(x='Embarked', data=survival_based_on_embarktion(titanic_df, 1),order=['C', 'Q', 'S'])\n",
    "plt.title('People survived based on port of embarktion')\n",
    "\n",
    "#Plot of people who survived\n",
    "plt.subplot(2,2,2)\n",
    "sns.countplot(x='Embarked', data=survival_based_on_embarktion(titanic_df, 0), order=['C', 'Q', 'S'])\n",
    "plt.title('People died based on port of embarktion')"
   ]
  },
  {
   "cell_type": "markdown",
   "metadata": {},
   "source": [
    "Conclusion: We see that lot of people died who embarked from port S, but see also see people survived from port S are maximum. Similarly we see people from port C and Q died and survived in equal number. Overall this feature does not give us a lot of information."
   ]
  },
  {
   "cell_type": "markdown",
   "metadata": {},
   "source": [
    "### Exploratory Data Analysis"
   ]
  },
  {
   "cell_type": "markdown",
   "metadata": {},
   "source": [
    "#### Which Age group survived the most?"
   ]
  },
  {
   "cell_type": "code",
   "execution_count": 10,
   "metadata": {
    "collapsed": false
   },
   "outputs": [
    {
     "data": {
      "text/plain": [
       "<matplotlib.text.Text at 0x2914ee2d080>"
      ]
     },
     "execution_count": 10,
     "metadata": {},
     "output_type": "execute_result"
    },
    {
     "data": {
      "image/png": "[encoded data removed]",
      "text/plain": [
       "<matplotlib.figure.Figure at 0x2914d3dd780>"
      ]
     },
     "metadata": {},
     "output_type": "display_data"
    }
   ],
   "source": [
    "groupby_age = pd.cut(x=titanic_df['Age'], bins=np.arange(0, 90, 10))\n",
    "titanic_df.groupby(groupby_age).mean()['Survived'].plot.bar()\n",
    "plt.title('Survival Ratio by Age group')\n",
    "plt.ylabel('Ratio')"
   ]
  },
  {
   "cell_type": "markdown",
   "metadata": {},
   "source": [
    "Conclusion: We see that the childrens are the majority of survivors. The adults between age 30 to 40 and so on. Unfortunately, these all ratios are below 0.6 or 60%."
   ]
  },
  {
   "cell_type": "markdown",
   "metadata": {},
   "source": [
    "#### What is Fare statistic by Pclass?"
   ]
  },
  {
   "cell_type": "code",
   "execution_count": 11,
   "metadata": {
    "collapsed": false
   },
   "outputs": [
    {
     "data": {
      "text/html": [
       "<div>\n",
       "<table border=\"1\" class=\"dataframe\">\n",
       "  <thead>\n",
       "    <tr style=\"text-align: right;\">\n",
       "      <th></th>\n",
       "      <th>Lower Class</th>\n",
       "      <th>Middle Class</th>\n",
       "      <th>Upper Class</th>\n",
       "    </tr>\n",
       "  </thead>\n",
       "  <tbody>\n",
       "    <tr>\n",
       "      <th>Mean</th>\n",
       "      <td>13.675550</td>\n",
       "      <td>20.662183</td>\n",
       "      <td>84.154687</td>\n",
       "    </tr>\n",
       "    <tr>\n",
       "      <th>Max</th>\n",
       "      <td>69.550000</td>\n",
       "      <td>73.500000</td>\n",
       "      <td>512.329200</td>\n",
       "    </tr>\n",
       "    <tr>\n",
       "      <th>Std</th>\n",
       "      <td>11.766142</td>\n",
       "      <td>13.380889</td>\n",
       "      <td>78.198726</td>\n",
       "    </tr>\n",
       "    <tr>\n",
       "      <th>Min</th>\n",
       "      <td>0.000000</td>\n",
       "      <td>0.000000</td>\n",
       "      <td>0.000000</td>\n",
       "    </tr>\n",
       "  </tbody>\n",
       "</table>\n",
       "</div>"
      ],
      "text/plain": [
       "      Lower Class  Middle Class  Upper Class\n",
       "Mean    13.675550     20.662183    84.154687\n",
       "Max     69.550000     73.500000   512.329200\n",
       "Std     11.766142     13.380889    78.198726\n",
       "Min      0.000000      0.000000     0.000000"
      ]
     },
     "execution_count": 11,
     "metadata": {},
     "output_type": "execute_result"
    }
   ],
   "source": [
    "def fare_statistics(df, field, field_value):\n",
    "    \"\"\"\n",
    "    This function returns a mean, std, min and max for Fare\n",
    "    Pass field as Pclass, field_value as values for Pclass\n",
    "    \"\"\"\n",
    "    fare_df = df[df[field]==field_value]['Fare']\n",
    "    fare_mean = fare_df.mean()\n",
    "    fare_std = fare_df.std(ddof=0)\n",
    "    fare_min = fare_df.min()\n",
    "    fare_max = fare_df.max()\n",
    "    return fare_mean, fare_max, fare_std, fare_min\n",
    "\n",
    "def fare_statistics_pclass(df, field):\n",
    "    \"\"\"\n",
    "    This function returns dataframe of statistics for Fare by Pclass\n",
    "    \"\"\"\n",
    "    fare_Pclass = {'Upper Class':fare_statistics(titanic_df, field, 1),\n",
    "                   'Middle Class':fare_statistics(titanic_df, field, 2),\n",
    "                   'Lower Class':fare_statistics(titanic_df, field, 3)}\n",
    "    return pd.DataFrame(fare_Pclass, index=['Mean', 'Max', 'Std', 'Min'])\n",
    "\n",
    "\n",
    "fare_statistics_pclass(titanic_df,'Pclass')"
   ]
  },
  {
   "cell_type": "markdown",
   "metadata": {},
   "source": [
    "Conclusion: Its strange that:\n",
    "1. The Maximum fare for lower class and Mean fare for upper class does not have huge difference.\n",
    "2. Minimum Fare is $0 for all three classes.\n",
    "3. Standard deviation for each class is very high, almost near the mean.\n",
    "\n",
    "This tells us that the Fares for upper class, middle class, lower class are not evenly charged to customers. Some customers enjoyed the upper class luxury at lower price and some customers paid huge price for Upper class ticket."
   ]
  },
  {
   "cell_type": "markdown",
   "metadata": {},
   "source": [
    "#### Hypothesis Testing: Does the Upper Class had better chances of survival?"
   ]
  },
  {
   "cell_type": "code",
   "execution_count": 12,
   "metadata": {
    "collapsed": false
   },
   "outputs": [
    {
     "data": {
      "text/plain": [
       "<matplotlib.axes._subplots.AxesSubplot at 0x2914ec795f8>"
      ]
     },
     "metadata": {},
     "output_type": "display_data"
    },
    {
     "data": {
      "text/plain": [
       "<matplotlib.text.Text at 0x2914ecce2e8>"
      ]
     },
     "execution_count": 12,
     "metadata": {},
     "output_type": "execute_result"
    },
    {
     "data": {
      "image/png": "[encoded data removed]",
      "text/plain": [
       "<matplotlib.figure.Figure at 0x2914ee2d8d0>"
      ]
     },
     "metadata": {},
     "output_type": "display_data"
    }
   ],
   "source": [
    "#Plotting graph of survival ratio by class\n",
    "#From below graph, Can we assume that Upper Class has higher survival ratio than other classes?\n",
    "display(titanic_df.groupby('Pclass')['Survived'].mean().plot.bar())\n",
    "plt.title(\"Pclass Survival Ratio\")\n",
    "plt.ylabel(\"Survival Ratio\")"
   ]
  },
  {
   "cell_type": "code",
   "execution_count": 13,
   "metadata": {
    "collapsed": false
   },
   "outputs": [
    {
     "name": "stdout",
     "output_type": "stream",
     "text": [
      "Z-Score Upper Class: 15.1578261144\n",
      "Z-Score Middle Class: 5.30588474781\n",
      "Z-Score Lower Class: -9.84498423612\n"
     ]
    }
   ],
   "source": [
    "#H0: There was no difference in survival between upper or lower class\n",
    "#H1: Upper class had better chance of survival\n",
    "\n",
    "#Calculating the Z-Score\n",
    "def calculate_z_score(df, sample_class, class_value, population_class):\n",
    "    \"\"\"\n",
    "    Takes input as dataframe, sample and population and calculates the z-score\n",
    "    Higher Z-score tells that H1 is correct\n",
    "    Lower Z-score tells that H0 is correct\n",
    "    \"\"\"\n",
    "    sample = df[(df[sample_class]==class_value)][population_class]\n",
    "    population = df[population_class]\n",
    "    n = population.shape[0]\n",
    "    standard_error = (sample.std()/np.sqrt(n))\n",
    "    return (sample.mean() - population.mean())/standard_error\n",
    "\n",
    "print('Z-Score Upper Class:',calculate_z_score(titanic_df, 'Pclass', 1, 'Survived'))\n",
    "print('Z-Score Middle Class:',calculate_z_score(titanic_df, 'Pclass', 2, 'Survived'))\n",
    "print('Z-Score Lower Class:',calculate_z_score(titanic_df, 'Pclass', 3, 'Survived'))"
   ]
  },
  {
   "cell_type": "markdown",
   "metadata": {},
   "source": [
    "Conclusion: Clearly, the Z-Score tells is very low for Lower Class as compared to Z-Score of Upper class. Hence our assumption is true that \"Upper class had better chances of survival than other classes\"."
   ]
  },
  {
   "cell_type": "markdown",
   "metadata": {},
   "source": [
    "### Extending our Analysis and Drawing Insights"
   ]
  },
  {
   "cell_type": "code",
   "execution_count": 14,
   "metadata": {
    "collapsed": false,
    "scrolled": false
   },
   "outputs": [
    {
     "data": {
      "image/png": "[encoded data removed]",
      "text/plain": [
       "<matplotlib.figure.Figure at 0x2914ed162e8>"
      ]
     },
     "metadata": {},
     "output_type": "display_data"
    }
   ],
   "source": [
    "survived_df = titanic_df.groupby(['Pclass','Sex','Survived'])[['Age','SibSp','Parch','Fare']].mean()\n",
    "\n",
    "plt.figure(figsize=(12,6))\n",
    "\n",
    "#Survival Age Relation\n",
    "plt.subplot(2,2,1)\n",
    "survived_df['Age'].plot(kind='line', legend=True, colormap='plasma')\n",
    "plt.title('Age of People who did not Survive')\n",
    "\n",
    "#Survival Fare Relation\n",
    "plt.subplot(2,2,2)\n",
    "survived_df['Parch'].plot(kind='area', legend=True, colormap='viridis')\n",
    "plt.title('Were Parents with People who did not Survive')\n",
    "\n",
    "#Survival Fare Relation\n",
    "plt.subplot(2,2,3)\n",
    "survived_df['Fare'].plot(kind='bar', legend=True, colormap='plasma')\n",
    "plt.title('Fare given by People who Survived')\n",
    "\n",
    "#Survival Fare Relation\n",
    "plt.subplot(2,2,4)\n",
    "survived_df['SibSp'].plot(kind='barh', legend=True, colormap='viridis')\n",
    "plt.title('Were Siblings with People who did not Survive')\n",
    "\n",
    "plt.tight_layout()"
   ]
  },
  {
   "cell_type": "markdown",
   "metadata": {},
   "source": [
    "Conclusion: From above findings we can conclude that:\n",
    "1. Majority of people who died in Titanic disaster were males above age of 40.\n",
    "2. Eventhough more females survived as compared to males, the only ones who could not survive were with their Parents/Children.\n",
    "3. More fare was given by people who Survived (Upper Class) as compared to the people having Middle Class and Lower Class ticket.\n",
    "4. The females who were with their Siblings/Spouses could not survive."
   ]
  },
  {
   "cell_type": "markdown",
   "metadata": {
    "collapsed": true
   },
   "source": [
    "#### Thank you for going through my analysis."
   ]
  }
 ],
 "metadata": {
  "kernelspec": {
   "display_name": "Python 3",
   "language": "python",
   "name": "python3"
  },
  "language_info": {
   "codemirror_mode": {
    "name": "ipython",
    "version": 3
   },
   "file_extension": ".py",
   "mimetype": "text/x-python",
   "name": "python",
   "nbconvert_exporter": "python",
   "pygments_lexer": "ipython3",
   "version": "3.6.0"
  }
 },
 "nbformat": 4,
 "nbformat_minor": 2
}
